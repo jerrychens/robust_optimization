{
 "cells": [
  {
   "cell_type": "code",
   "execution_count": 1,
   "metadata": {},
   "outputs": [],
   "source": [
    "# Import library\n",
    "import numpy as np\n",
    "import scipy.optimize as opt\n",
    "import matplotlib.pyplot as plt"
   ]
  },
  {
   "cell_type": "markdown",
   "metadata": {},
   "source": [
    "## Problem\n",
    "\n",
    "We want to maximize the total number of chairs and tables by using available wood and workers."
   ]
  },
  {
   "cell_type": "markdown",
   "metadata": {},
   "source": [
    "|           | Wood | Worker |\n",
    "|-----------|------|--------|\n",
    "| Chair     | 1    | 2      |\n",
    "| Table     | 2    | 1      |\n",
    "| Available | 6    | 6      |"
   ]
  },
  {
   "cell_type": "markdown",
   "metadata": {},
   "source": [
    "The table show the resources required (on average) for an ideal case."
   ]
  },
  {
   "cell_type": "markdown",
   "metadata": {},
   "source": [
    "## Ideal case - simple linear programming"
   ]
  },
  {
   "cell_type": "markdown",
   "metadata": {},
   "source": [
    "Assume the resource consumption is exact."
   ]
  },
  {
   "cell_type": "code",
   "execution_count": 2,
   "metadata": {},
   "outputs": [],
   "source": [
    "# Coefficients of the cost function\n",
    "cost = -np.array([1., 1.]) # convert into a minimize problem\n",
    "\n",
    "# Coefficients of the constraints\n",
    "cons1 = np.array([1., 2.])\n",
    "cons2 = np.array([2., 1.])\n",
    "\n",
    "# Cost function\n",
    "fun = lambda x: np.sum(cost * x)\n",
    "\n",
    "# Constraints - ineq: greater than 0\n",
    "cons = ({'type': 'ineq', 'fun': lambda x: 6 - np.sum(cons1 * x)},\n",
    "        {'type': 'ineq', 'fun': lambda x: 6 - np.sum(cons2 * x)})\n",
    "\n",
    "# Bounds\n",
    "bnds = ((0, None),(0, None))\n",
    "\n",
    "# Initial guess\n",
    "guess = np.array([1., 1.])"
   ]
  },
  {
   "cell_type": "code",
   "execution_count": 3,
   "metadata": {},
   "outputs": [
    {
     "data": {
      "text/plain": [
       "     fun: -4.0\n",
       "     jac: array([-1., -1.])\n",
       " message: 'Optimization terminated successfully.'\n",
       "    nfev: 8\n",
       "     nit: 2\n",
       "    njev: 2\n",
       "  status: 0\n",
       " success: True\n",
       "       x: array([ 2.,  2.])"
      ]
     },
     "execution_count": 3,
     "metadata": {},
     "output_type": "execute_result"
    }
   ],
   "source": [
    "# Optimize\n",
    "res = opt.minimize(fun, guess, method = 'SLSQP', bounds = bnds, constraints = cons, tol = 1e-8)\n",
    "res"
   ]
  },
  {
   "cell_type": "code",
   "execution_count": 4,
   "metadata": {},
   "outputs": [
    {
     "data": {
      "text/plain": [
       "array([ 2.,  2.])"
      ]
     },
     "execution_count": 4,
     "metadata": {},
     "output_type": "execute_result"
    }
   ],
   "source": [
    "res.x"
   ]
  },
  {
   "cell_type": "code",
   "execution_count": 5,
   "metadata": {},
   "outputs": [
    {
     "name": "stdout",
     "output_type": "stream",
     "text": [
      "objective: -4.0\n",
      "constraint 1: True\n",
      "constraint 2: True\n"
     ]
    }
   ],
   "source": [
    "print(\"objective:\", np.sum(cost * res.x))\n",
    "print(\"constraint 1:\", round(np.sum(cons1 * res.x), 6) <= 6)\n",
    "print(\"constraint 2:\", round(np.sum(cons2 * res.x), 6) <= 6)"
   ]
  },
  {
   "cell_type": "code",
   "execution_count": null,
   "metadata": {},
   "outputs": [],
   "source": []
  },
  {
   "cell_type": "markdown",
   "metadata": {},
   "source": [
    "## Deal with uncertainty"
   ]
  },
  {
   "cell_type": "markdown",
   "metadata": {},
   "source": [
    "What if the resource consumption is uncertaion? i.e., the coeffiecients deviate form its nominal (average) value.  "
   ]
  },
  {
   "cell_type": "markdown",
   "metadata": {},
   "source": [
    "|           | Wood    | Worker  |\n",
    "|-----------|---------|---------|\n",
    "| Chair     | 1 ± 0.8 | 2 ± 1   |\n",
    "| Table     | 2 ± 1.5 | 1 ± 0.5 |\n",
    "| Available | 6       | 6       |"
   ]
  },
  {
   "cell_type": "markdown",
   "metadata": {},
   "source": [
    "### Optmistic case"
   ]
  },
  {
   "cell_type": "markdown",
   "metadata": {},
   "source": [
    "We will use the least resource to produce more units.\n",
    "\n",
    "|           | Wood          | Worker        |\n",
    "|-----------|---------------|---------------|\n",
    "| Chair     | 1 - 0.8 = 0.2 | 2 - 1 = 1     |\n",
    "| Table     | 2 - 1.5 = 0.5 | 1 - 0.5 = 0.5 |\n",
    "| Available | 6             | 6             |"
   ]
  },
  {
   "cell_type": "code",
   "execution_count": 6,
   "metadata": {},
   "outputs": [],
   "source": [
    "# Coefficients of the cost function\n",
    "cost = -np.array([1., 1.]) # convert into a minimize problem\n",
    "\n",
    "# Coefficients of the constraints\n",
    "cons1 = np.array([0.2, 0.5])\n",
    "cons2 = np.array([1.0, 0.5])\n",
    "\n",
    "# Cost function\n",
    "fun = lambda x: np.sum(cost * x)\n",
    "\n",
    "# Constraints - ineq: greater than 0\n",
    "cons = ({'type': 'ineq', 'fun': lambda x: 6 - np.sum(cons1 * x)},\n",
    "        {'type': 'ineq', 'fun': lambda x: 6 - np.sum(cons2 * x)})\n",
    "\n",
    "# Bounds\n",
    "bnds = ((0, None),(0, None))\n",
    "\n",
    "# Initial guess\n",
    "guess = np.array([1., 1.])"
   ]
  },
  {
   "cell_type": "code",
   "execution_count": 7,
   "metadata": {},
   "outputs": [
    {
     "data": {
      "text/plain": [
       "     fun: -11.999999999998888\n",
       "     jac: array([-1., -1.])\n",
       " message: 'Optimization terminated successfully.'\n",
       "    nfev: 28\n",
       "     nit: 7\n",
       "    njev: 7\n",
       "  status: 0\n",
       " success: True\n",
       "       x: array([  1.53785614e-13,   1.20000000e+01])"
      ]
     },
     "execution_count": 7,
     "metadata": {},
     "output_type": "execute_result"
    }
   ],
   "source": [
    "# Optimize\n",
    "res = opt.minimize(fun, guess, method = 'SLSQP', bounds = bnds, constraints = cons, tol = 1e-8)\n",
    "res"
   ]
  },
  {
   "cell_type": "code",
   "execution_count": 8,
   "metadata": {},
   "outputs": [
    {
     "data": {
      "text/plain": [
       "array([  1.53785614e-13,   1.20000000e+01])"
      ]
     },
     "execution_count": 8,
     "metadata": {},
     "output_type": "execute_result"
    }
   ],
   "source": [
    "res.x"
   ]
  },
  {
   "cell_type": "code",
   "execution_count": 9,
   "metadata": {},
   "outputs": [
    {
     "name": "stdout",
     "output_type": "stream",
     "text": [
      "objective: -12.0\n",
      "constraint 1: True\n",
      "constraint 2: True\n"
     ]
    }
   ],
   "source": [
    "print(\"objective:\", np.sum(cost * res.x))\n",
    "print(\"constraint 1:\", round(np.sum(cons1 * res.x), 6) <= 6)\n",
    "print(\"constraint 2:\", round(np.sum(cons2 * res.x), 6) <= 6)"
   ]
  },
  {
   "cell_type": "code",
   "execution_count": null,
   "metadata": {},
   "outputs": [],
   "source": []
  },
  {
   "cell_type": "markdown",
   "metadata": {},
   "source": [
    "### Pessimistic case"
   ]
  },
  {
   "cell_type": "markdown",
   "metadata": {},
   "source": [
    "We will use the most resource to produce less units.\n",
    "\n",
    "|           | Wood          | Worker        |\n",
    "|-----------|---------------|---------------|\n",
    "| Chair     | 1 + 0.8 = 1.8 | 2 + 1 = 3     |\n",
    "| Table     | 2 + 1.5 = 3.5 | 1 + 0.5 = 1.5 |\n",
    "| Available | 6             | 6             |"
   ]
  },
  {
   "cell_type": "code",
   "execution_count": 10,
   "metadata": {},
   "outputs": [],
   "source": [
    "# Coefficients of the cost function\n",
    "cost = -np.array([1., 1.]) # convert into a minimize problem\n",
    "\n",
    "# Coefficients of the constraints\n",
    "cons1 = np.array([1.8, 3.5])\n",
    "cons2 = np.array([3.0, 1.5])\n",
    "\n",
    "# Cost function\n",
    "fun = lambda x: np.sum(cost * x)\n",
    "\n",
    "# Constraints - ineq: greater than 0\n",
    "cons = ({'type': 'ineq', 'fun': lambda x: 6 - np.sum(cons1 * x)},\n",
    "        {'type': 'ineq', 'fun': lambda x: 6 - np.sum(cons2 * x)})\n",
    "\n",
    "# Bounds\n",
    "bnds = ((0, None),(0, None))\n",
    "\n",
    "# Initial guess\n",
    "guess = np.array([1., 1.])"
   ]
  },
  {
   "cell_type": "code",
   "execution_count": 11,
   "metadata": {},
   "outputs": [
    {
     "data": {
      "text/plain": [
       "     fun: -2.461538462207861\n",
       "     jac: array([-1., -1.])\n",
       " message: 'Optimization terminated successfully.'\n",
       "    nfev: 12\n",
       "     nit: 3\n",
       "    njev: 3\n",
       "  status: 0\n",
       " success: True\n",
       "       x: array([ 1.53846154,  0.92307692])"
      ]
     },
     "execution_count": 11,
     "metadata": {},
     "output_type": "execute_result"
    }
   ],
   "source": [
    "# Optimize\n",
    "res = opt.minimize(fun, guess, method = 'SLSQP', bounds = bnds, constraints = cons, tol = 1e-8)\n",
    "res"
   ]
  },
  {
   "cell_type": "code",
   "execution_count": 12,
   "metadata": {},
   "outputs": [
    {
     "data": {
      "text/plain": [
       "array([ 1.53846154,  0.92307692])"
      ]
     },
     "execution_count": 12,
     "metadata": {},
     "output_type": "execute_result"
    }
   ],
   "source": [
    "res.x"
   ]
  },
  {
   "cell_type": "code",
   "execution_count": 13,
   "metadata": {},
   "outputs": [
    {
     "name": "stdout",
     "output_type": "stream",
     "text": [
      "objective: -2.46153846221\n",
      "constraint 1: True\n",
      "constraint 2: True\n"
     ]
    }
   ],
   "source": [
    "print(\"objective:\", np.sum(cost * res.x))\n",
    "print(\"constraint 1:\", round(np.sum(cons1 * res.x), 6) <= 6)\n",
    "print(\"constraint 2:\", round(np.sum(cons2 * res.x), 6) <= 6)"
   ]
  },
  {
   "cell_type": "code",
   "execution_count": null,
   "metadata": {},
   "outputs": [],
   "source": []
  },
  {
   "cell_type": "markdown",
   "metadata": {},
   "source": [
    "### Robust optimization"
   ]
  },
  {
   "cell_type": "markdown",
   "metadata": {},
   "source": [
    "The optmization model can represent as this form:\n",
    "\n",
    "\\begin{array}{r l}\n",
    "    \\max        & z = \\sum_{j=1}^{n} c_j x_j & \\\\\n",
    "    \\text{s.t.} & \\sum_{j=1}^{n} a_{ij} x_{j} \\leq b_i & \\forall\\, i=1,\\dotsc,m \\\\\n",
    "                & x_j \\geq 0 & \\forall\\, j=1,\\dotsc,n \\\\\n",
    "\\end{array}"
   ]
  },
  {
   "cell_type": "markdown",
   "metadata": {},
   "source": [
    ", where $a_{ij} \\in [\\bar a_{ij} -\\hat a_{ij},\\bar a_{ij} +\\hat a_{ij}]$"
   ]
  },
  {
   "cell_type": "markdown",
   "metadata": {},
   "source": [
    "We can define the **uncerrtainty set** as:\n",
    "\n",
    "$\\mathcal U_i = \\{ a_{ij}\\in \\mathbb {R} : a_{ij}= \\bar a_{ij} + \\hat a_{ij}d_{ij}, -1 \\leq d_{ij} \\leq 1, \\sum_{j \\in J_i} d_{ij} \\leq \\Gamma_i  \\}$\n",
    "\n",
    ",where $\\Gamma_i$ can be at most equal to the number of the uncertain parameters in the $i^{th}$ contraint; $J_i$ is the set of indexes of the constraints."
   ]
  },
  {
   "cell_type": "markdown",
   "metadata": {},
   "source": [
    "\\begin{array}{r l}\n",
    "\\max & z = \\sum_{j=1}^{n} c_j x_j & \\\\\n",
    "\\text{s.t.} & \\sum_{j=1}^{n} \\bar a_{ij} x_{j} + \\max_{S_i \\subseteq J_i, |S_i| = \\Gamma_i} { \\sum_{j \\in S_i} \\hat a_{ij} y_j } \\leq b_i & \\forall\\, i=1,\\dotsc,m \\\\\n",
    "& x_j \\leq y_j & \\forall\\, j=1,\\dotsc,n\\\\\n",
    "& x_j \\geq 0,y_j \\geq 0  & \\forall\\, j=1,\\dotsc,n\n",
    "\\end{array}"
   ]
  },
  {
   "cell_type": "markdown",
   "metadata": {},
   "source": [
    "If $\\Gamma_i = 0$, then it becomes the nominal problem; if m > $\\Gamma_i$ > 0, we are looking for the worst-case."
   ]
  },
  {
   "cell_type": "markdown",
   "metadata": {},
   "source": [
    "Use strong duality to take care of the max in the constraint, and substitute the the objective of the dual problem into the constraint.\n",
    "\n",
    "\\begin{array}{r l}\n",
    "\\max & z = \\sum_{j=1}^{n} c_j x_j \\\\\n",
    "s.t.\n",
    "& \\sum_{j=1}^{n} \\bar a_{ij} x_{j} + z_i \\Gamma_i + \\sum_{j \\in J_i} p_{ij} \\leq b_i & \\forall i \\\\\n",
    "& z_i + p_{ij} \\geq \\hat a_{ij} y_j & \\forall i, j\\in J_i\\\\\n",
    "& x_j \\leq y_j & \\forall j=1,...,n\\\\\n",
    "& p_{ij} \\geq 0 & \\forall i, j \\in J_i\\\\\n",
    "& z_i \\geq 0 & \\forall i\\\\\n",
    "& x_j \\geq 0,y_j \\geq 0  & \\forall j\n",
    "\\end{array}"
   ]
  },
  {
   "cell_type": "markdown",
   "metadata": {},
   "source": [
    "Therefore, the original problem can be reformulated to:\n",
    "\n",
    "\\begin{array}{r l}\n",
    "\\max & z =x_1 + x_2 \\\\\n",
    "s.t.\n",
    "& 2x_1 + x_2 + z_1 \\Gamma_1 + p_{11} + p_{12} \\leq 6 \\\\\n",
    "& x_1 + 2x_2 + z_2 \\Gamma_2 + p_{21} + p_{22} \\leq 6 \\\\\n",
    "& z_1 + p_{11} \\geq y_1\\\\\n",
    "& z_1 + p_{12} \\geq 0.5 y_2\\\\\n",
    "& z_2 + p_{21} \\geq 0.8 y_1\\\\\n",
    "& z_2 + p_{22} \\geq 1.5 y_2\\\\\n",
    "& x_1 \\leq y_1 \\\\\n",
    "& x_2 \\leq y_2 \\\\\n",
    "& p_{ij} \\geq 0 ,\\forall i,j\\\\\n",
    "& z_1,z_2 \\geq 0\\\\\n",
    "& y_1, y_2 \\geq 0\\\\\n",
    "& x_1,x_2 \\geq 0\n",
    "\\end{array}"
   ]
  },
  {
   "cell_type": "code",
   "execution_count": 14,
   "metadata": {},
   "outputs": [],
   "source": [
    "def robust(g):\n",
    "    # Coefficients of the cost function\n",
    "    cost = -np.array([1.0, 1.0, 0.0, 0.0, 0.0, 0.0, 0.0, 0.0, 0.0, 0.0]) # convert into a minimization problem\n",
    "\n",
    "    # Coefficients of the constraints\n",
    "    # [x1, x2, y1, y2, z1, z2, p11, p12, p21, p22]\n",
    "    cons1 = np.array([ 2.0, 1.0, 0.0, 0.0,g[0], 0.0, 1.0, 1.0, 0.0, 0.0])\n",
    "    cons2 = np.array([ 1.0, 2.0, 0.0, 0.0, 0.0,g[1], 0.0, 0.0, 1.0, 1.0])\n",
    "    cons3 = np.array([ 0.0, 0.0,-1.0, 0.0, 1.0, 0.0, 1.0, 0.0, 0.0, 0.0])\n",
    "    cons4 = np.array([ 0.0, 0.0, 0.0,-0.5, 1.0, 0.0, 0.0, 1.0, 0.0, 0.0])\n",
    "    cons5 = np.array([ 0.0, 0.0,-0.8, 0.0, 0.0, 1.0, 0.0, 0.0, 1.0, 0.0])\n",
    "    cons6 = np.array([ 0.0, 0.0, 0.0,-1.5, 0.0, 1.0, 0.0, 0.0, 0.0, 1.0])\n",
    "    cons7 = np.array([-1.0, 0.0, 1.0, 0.0, 0.0, 0.0, 0.0, 0.0, 0.0, 0.0])\n",
    "    cons8 = np.array([ 0.0,-1.0, 0.0, 1.0, 0.0, 0.0, 0.0, 0.0, 0.0, 0.0])\n",
    "\n",
    "    # Cost function\n",
    "    fun = lambda x: np.sum(cost * x)\n",
    "\n",
    "    # Constraints - ineq: greater than 0\n",
    "    cons = ({'type': 'ineq', 'fun': lambda x: 6 - np.sum(cons1 * x)},\n",
    "            {'type': 'ineq', 'fun': lambda x: 6 - np.sum(cons2 * x)},\n",
    "            {'type': 'ineq', 'fun': lambda x: np.sum(cons3 * x)},\n",
    "            {'type': 'ineq', 'fun': lambda x: np.sum(cons4 * x)},\n",
    "            {'type': 'ineq', 'fun': lambda x: np.sum(cons5 * x)},\n",
    "            {'type': 'ineq', 'fun': lambda x: np.sum(cons6 * x)},\n",
    "            {'type': 'ineq', 'fun': lambda x: np.sum(cons7 * x)},\n",
    "            {'type': 'ineq', 'fun': lambda x: np.sum(cons8 * x)}\n",
    "           )\n",
    "\n",
    "    # Bounds\n",
    "    bnds = ((0, None),) * 10\n",
    "\n",
    "    # Initial guess\n",
    "    guess = np.ones(10)\n",
    "\n",
    "    # Optimize\n",
    "    res = opt.minimize(fun, guess, method = 'SLSQP', bounds = bnds, constraints = cons, tol = 1e-8)\n",
    "    \n",
    "    return res.x[0:2]"
   ]
  },
  {
   "cell_type": "markdown",
   "metadata": {},
   "source": [
    "If we asumme the same level of uncertainty, i.e., gamma_1 = gamma_2"
   ]
  },
  {
   "cell_type": "code",
   "execution_count": 15,
   "metadata": {},
   "outputs": [
    {
     "data": {
      "text/plain": [
       "array([ 2.,  2.])"
      ]
     },
     "execution_count": 15,
     "metadata": {},
     "output_type": "execute_result"
    }
   ],
   "source": [
    "robust([0, 0])"
   ]
  },
  {
   "cell_type": "code",
   "execution_count": 16,
   "metadata": {},
   "outputs": [],
   "source": [
    "x = np.linspace(0, 2, 21)\n",
    "decision = [robust([i, i]) for i in x]"
   ]
  },
  {
   "cell_type": "code",
   "execution_count": 17,
   "metadata": {},
   "outputs": [
    {
     "data": {
      "text/plain": [
       "[array([ 2.,  2.]),\n",
       " array([ 1.96301565,  1.87766714]),\n",
       " array([ 1.92118227,  1.77339901]),\n",
       " array([ 1.87702265,  1.68284789]),\n",
       " array([ 1.83206107,  1.60305343]),\n",
       " array([ 1.78723404,  1.53191489]),\n",
       " array([ 1.74311927,  1.46788991]),\n",
       " array([ 1.70006911,  1.40981341]),\n",
       " array([ 1.65829146,  1.35678392]),\n",
       " array([ 1.61790017,  1.3080895 ]),\n",
       " array([ 1.57894737,  1.26315789]),\n",
       " array([ 1.56950673,  1.22998078]),\n",
       " array([ 1.56114484,  1.19687771]),\n",
       " array([ 1.55389024,  1.1637646 ]),\n",
       " array([ 1.54777927,  1.13055182]),\n",
       " array([ 1.54285714,  1.09714286]),\n",
       " array([ 1.5391791 ,  1.06343284]),\n",
       " array([ 1.53681201,  1.02930665]),\n",
       " array([ 1.53583618,  0.99463676]),\n",
       " array([ 1.53634774,  0.95928054]),\n",
       " array([ 1.53846154,  0.92307692])]"
      ]
     },
     "execution_count": 17,
     "metadata": {},
     "output_type": "execute_result"
    }
   ],
   "source": [
    "decision"
   ]
  },
  {
   "cell_type": "code",
   "execution_count": 18,
   "metadata": {},
   "outputs": [
    {
     "data": {
      "image/png": "[encoded data removed]",
      "text/plain": [
       "<matplotlib.figure.Figure at 0x1ae5933d128>"
      ]
     },
     "metadata": {},
     "output_type": "display_data"
    }
   ],
   "source": [
    "bar1 = []\n",
    "bar2 = []\n",
    "\n",
    "for i in decision:\n",
    "    bar1.append(i[0])\n",
    "    bar2.append(i[1])\n",
    "\n",
    "plt.figure(figsize=(10, 5))\n",
    "plt.bar(x, bar1, width = 0.05, align='center')\n",
    "plt.bar(x, bar2, width = 0.05, align='center', bottom = bar1)\n",
    "plt.xlabel(\"Gamma_1 = Gamma_2\")\n",
    "plt.ylabel(\"Number of units\")\n",
    "plt.show()"
   ]
  },
  {
   "cell_type": "code",
   "execution_count": null,
   "metadata": {},
   "outputs": [],
   "source": []
  }
 ],
 "metadata": {
  "kernelspec": {
   "display_name": "Python 3",
   "language": "python",
   "name": "python3"
  },
  "language_info": {
   "codemirror_mode": {
    "name": "ipython",
    "version": 3
   },
   "file_extension": ".py",
   "mimetype": "text/x-python",
   "name": "python",
   "nbconvert_exporter": "python",
   "pygments_lexer": "ipython3",
   "version": "3.6.4"
  }
 },
 "nbformat": 4,
 "nbformat_minor": 2
}
